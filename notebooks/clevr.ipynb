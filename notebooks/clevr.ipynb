{
 "cells": [
  {
   "cell_type": "code",
   "execution_count": 1,
   "metadata": {},
   "outputs": [
    {
     "name": "stdout",
     "output_type": "stream",
     "text": [
      "/home/arenbabikian/git/clevr-iep/scripts\n"
     ]
    }
   ],
   "source": [
    "%cd ~/git/clevr-iep/scripts\n",
    "%load_ext autoreload\n",
    "%autoreload 2"
   ]
  },
  {
   "cell_type": "code",
   "execution_count": 10,
   "metadata": {},
   "outputs": [
    {
     "name": "stdout",
     "output_type": "stream",
     "text": [
      "3000 images to be processed\n"
     ]
    },
    {
     "name": "stderr",
     "output_type": "stream",
     "text": [
      "/home/arenbabikian/git/clevr-iep/.env/lib/python3.10/site-packages/torchvision/models/_utils.py:208: UserWarning: The parameter 'pretrained' is deprecated since 0.13 and may be removed in the future, please use 'weights' instead.\n",
      "  warnings.warn(\n",
      "/home/arenbabikian/git/clevr-iep/.env/lib/python3.10/site-packages/torchvision/models/_utils.py:223: UserWarning: Arguments other than a weight enum or `None` for 'weights' are deprecated since 0.13 and may be removed in the future. The current behavior is equivalent to passing `weights=ResNet101_Weights.IMAGENET1K_V1`. You can also use `weights=ResNet101_Weights.DEFAULT` to get the most up-to-date weights.\n",
      "  warnings.warn(msg)\n",
      "/home/arenbabikian/git/clevr-iep/scripts/extract_features.py:124: DeprecationWarning: Starting with ImageIO v3 the behavior of this function will switch to that of iio.v3.imread. To keep the current behavior (and make this warning disappear) use `import imageio.v2 as imageio` or call `imageio.v2.imread` directly.\n",
      "  img = imread(path, pilmode='RGB')\n"
     ]
    },
    {
     "name": "stdout",
     "output_type": "stream",
     "text": [
      "Processed 16 / 3000 images\n",
      "Processed 32 / 3000 images\n",
      "Processed 48 / 3000 images\n",
      "Processed 64 / 3000 images\n",
      "Processed 80 / 3000 images\n",
      "Processed 96 / 3000 images\n",
      "Processed 112 / 3000 images\n",
      "Processed 128 / 3000 images\n",
      "Processed 144 / 3000 images\n",
      "Processed 160 / 3000 images\n",
      "Processed 176 / 3000 images\n",
      "Processed 192 / 3000 images\n",
      "Processed 208 / 3000 images\n",
      "Processed 224 / 3000 images\n",
      "Processed 240 / 3000 images\n",
      "Processed 256 / 3000 images\n",
      "Processed 272 / 3000 images\n",
      "Processed 288 / 3000 images\n",
      "Processed 304 / 3000 images\n",
      "Processed 320 / 3000 images\n",
      "Processed 336 / 3000 images\n",
      "Processed 352 / 3000 images\n",
      "Processed 368 / 3000 images\n",
      "Processed 384 / 3000 images\n",
      "Processed 400 / 3000 images\n",
      "Processed 416 / 3000 images\n",
      "Processed 432 / 3000 images\n",
      "Processed 448 / 3000 images\n",
      "Processed 464 / 3000 images\n",
      "Processed 480 / 3000 images\n",
      "Processed 496 / 3000 images\n",
      "Processed 512 / 3000 images\n",
      "Processed 528 / 3000 images\n",
      "Processed 544 / 3000 images\n",
      "Processed 560 / 3000 images\n",
      "Processed 576 / 3000 images\n",
      "Processed 592 / 3000 images\n",
      "Processed 608 / 3000 images\n",
      "Processed 624 / 3000 images\n",
      "Processed 640 / 3000 images\n",
      "Processed 656 / 3000 images\n",
      "Processed 672 / 3000 images\n"
     ]
    },
    {
     "ename": "KeyboardInterrupt",
     "evalue": "",
     "output_type": "error",
     "traceback": [
      "\u001b[0;31m---------------------------------------------------------------------------\u001b[0m",
      "\u001b[0;31mKeyboardInterrupt\u001b[0m                         Traceback (most recent call last)",
      "File \u001b[0;32m~/git/clevr-iep/scripts/extract_features.py:155\u001b[0m\n\u001b[1;32m    153\u001b[0m \u001b[39mif\u001b[39;00m \u001b[39m__name__\u001b[39m \u001b[39m==\u001b[39m \u001b[39m'\u001b[39m\u001b[39m__main__\u001b[39m\u001b[39m'\u001b[39m:\n\u001b[1;32m    154\u001b[0m   args \u001b[39m=\u001b[39m parser\u001b[39m.\u001b[39mparse_args()\n\u001b[0;32m--> 155\u001b[0m   main(args)\n",
      "File \u001b[0;32m~/git/clevr-iep/scripts/extract_features.py:133\u001b[0m, in \u001b[0;36mmain\u001b[0;34m(args)\u001b[0m\n\u001b[1;32m    131\u001b[0m all_ids\u001b[39m.\u001b[39mappend(idx)\n\u001b[1;32m    132\u001b[0m \u001b[39mif\u001b[39;00m \u001b[39mlen\u001b[39m(cur_batch) \u001b[39m==\u001b[39m args\u001b[39m.\u001b[39mbatch_size:\n\u001b[0;32m--> 133\u001b[0m   feats \u001b[39m=\u001b[39m run_batch(cur_batch, model)\n\u001b[1;32m    134\u001b[0m   \u001b[39m# TODO? save to tensor file\u001b[39;00m\n\u001b[1;32m    135\u001b[0m   \u001b[39mif\u001b[39;00m feat_dset \u001b[39mis\u001b[39;00m \u001b[39mNone\u001b[39;00m:\n",
      "File \u001b[0;32m~/git/clevr-iep/scripts/extract_features.py:84\u001b[0m, in \u001b[0;36mrun_batch\u001b[0;34m(cur_batch, model)\u001b[0m\n\u001b[1;32m     81\u001b[0m     \u001b[39m# exit()\u001b[39;00m\n\u001b[1;32m     82\u001b[0m   \u001b[39melse\u001b[39;00m:\n\u001b[1;32m     83\u001b[0m     feats \u001b[39m=\u001b[39m model(image_batch)\n\u001b[0;32m---> 84\u001b[0m   feats \u001b[39m=\u001b[39m feats\u001b[39m.\u001b[39;49mdata\u001b[39m.\u001b[39;49mcpu()\u001b[39m.\u001b[39mclone()\u001b[39m.\u001b[39mnumpy()\n\u001b[1;32m     86\u001b[0m \u001b[39mreturn\u001b[39;00m feats\n",
      "\u001b[0;31mKeyboardInterrupt\u001b[0m: "
     ]
    }
   ],
   "source": [
    "\n",
    "# 0 - Extract original features\n",
    "\n",
    "input_data_dir = '/home/arenbabikian/git/CLEVR_v1.0/images/val'\n",
    "# input_data_dir = '/mnt/d/Documents/Education/backup/Datasets/CLEVR_v1.0/CLEVR_v1.0/images/val'\n",
    "out_dir = '/home/arenbabikian/git/clevr-iep/data-new-laptop-2/clevr/feats2'\n",
    "\n",
    "# NOTE 15000 validation iomages in total\n",
    "# Full dataset is on the external HD\n",
    "\n",
    "%run extract_features.py \\\n",
    "  --input_image_dir {input_data_dir} \\\n",
    "  --use_gpu 1 \\\n",
    "  --get_every_layer 1 \\\n",
    "  --model resnet101 \\\n",
    "  --model_stage 3 \\\n",
    "  --batch_size 16 \\\n",
    "  --min_index 0 \\\n",
    "  --max_index 3000 \\\n",
    "  --output_h5_dir {out_dir} \\\n",
    "  --output_h5_prefix val_features"
   ]
  },
  {
   "cell_type": "code",
   "execution_count": 13,
   "metadata": {},
   "outputs": [
    {
     "name": "stdout",
     "output_type": "stream",
     "text": [
      "\n"
     ]
    },
    {
     "name": "stderr",
     "output_type": "stream",
     "text": [
      "  0%|          | 0/3 [00:00<?, ?it/s]"
     ]
    },
    {
     "name": "stdout",
     "output_type": "stream",
     "text": [
      "Loading program generator from  program_generator_9k.pt\n",
      "Loading execution engine from  execution_engine_9k.pt\n",
      "Loading image features from  /home/arenbabikian/git/clevr-iep/data-new-laptop-2/clevr/feats/val_features_0_3000.h5\n",
      "Saving image stem features at  /home/arenbabikian/git/clevr-iep/data-new-laptop-2/clevr/stem-feats/val_features_0_3000.h5\n"
     ]
    },
    {
     "name": "stderr",
     "output_type": "stream",
     "text": [
      "3000it [00:02, 1288.59it/s]\n",
      "  0%|          | 0/3 [00:04<?, ?it/s]\n"
     ]
    }
   ],
   "source": [
    "# 0.5 - Extract STEM features\n",
    "\n",
    "specifications=[\n",
    "    ('features', 'learned', 10, 3000),\n",
    "    ('random1', 'random1', 10, 3000),\n",
    "    ('randomwithreplacement1', 'randomwithreplacement1', 10, 3000),\n",
    "    ('iepvqa/val', 'resnet101', 1, 300),\n",
    "    ('features_ansce', 'learned_from_ans_9k_ce', 1, 300),\n",
    "    ('features_ansmse', 'learned_from_ans_9k_mse', 1, 300)\n",
    "]\n",
    "\n",
    "# TEMP\n",
    "specifications=[('iepvqa/val', 'resnet101', 1, 3000)]\n",
    "\n",
    "for feats, out_dir, interval, num_im in specifications:\n",
    "    features_path = f'/home/arenbabikian/git/Clevr-Relational/_data/{feats}_features_0_{num_im}.h5'\n",
    "    features_path = f'/home/arenbabikian/git/clevr-iep/data-new-laptop-2/clevr/feats/val_features_0_3000.h5' # TEMP\n",
    "\n",
    "    ### LEARNED FROM ANS MSE\n",
    "    %run answer_qs_from_features.py \\\n",
    "    --models_dir /home/arenbabikian/git/clevr-iep/models/CLEVR \\\n",
    "    --use_gpu 1 \\\n",
    "    --questions_interval {interval} \\\n",
    "    --num_images {num_im} \\\n",
    "    --questions_file /home/arenbabikian/git/clevr-iep/data-new-laptop-2/clevr/questions/val_questions_0_3000.h5 \\\n",
    "    --image_features {features_path} \\\n",
    "    --output_dir {None} \\\n",
    "    --only_extract_stem_feats\n"
   ]
  },
  {
   "cell_type": "code",
   "execution_count": null,
   "metadata": {},
   "outputs": [
    {
     "name": "stdout",
     "output_type": "stream",
     "text": [
      "Loading data\n",
      "Building vocab\n",
      "Encoding data\n",
      "Writing output\n",
      "(30000, 46)\n",
      "(30000, 26)\n"
     ]
    }
   ],
   "source": [
    "# 1 - Preprocess questions\n",
    "\n",
    "input_data_dir = '/home/arenbabikian/git/CLEVR_v1.0/questions/CLEVR_val_questions.json'\n",
    "out_h5_path = '/home/arenbabikian/git/clevr-iep/data-new-laptop-2/clevr/questions/val_questions_0_3000.h5'\n",
    "out_vocab_path = '/home/arenbabikian/git/clevr-iep/data-new-laptop-2/clevr/questions/val_vocab_0_3000.json'\n",
    "\n",
    "%run preprocess_questions.py \\\n",
    "  --input_questions_json {input_data_dir} \\\n",
    "  --output_h5_file {out_h5_path} \\\n",
    "  --output_vocab_json {out_vocab_path} \\\n",
    "  --min_index 0 \\\n",
    "  --max_index 3000 \\\n",
    "  --encode_unk 1"
   ]
  },
  {
   "cell_type": "code",
   "execution_count": 2,
   "metadata": {},
   "outputs": [
    {
     "name": "stderr",
     "output_type": "stream",
     "text": [
      "/home/arenbabikian/git/clevr-iep/.env/lib/python3.10/site-packages/tqdm/auto.py:22: TqdmWarning: IProgress not found. Please update jupyter and ipywidgets. See https://ipywidgets.readthedocs.io/en/stable/user_install.html\n",
      "  from .autonotebook import tqdm as notebook_tqdm\n"
     ]
    },
    {
     "name": "stdout",
     "output_type": "stream",
     "text": [
      "\n"
     ]
    },
    {
     "name": "stderr",
     "output_type": "stream",
     "text": [
      "  0%|          | 0/3 [00:00<?, ?it/s]"
     ]
    },
    {
     "name": "stdout",
     "output_type": "stream",
     "text": [
      "Loading program generator from  program_generator_9k.pt\n",
      "Loading execution engine from  execution_engine_9k.pt\n",
      "Loading image features from  /home/arenbabikian/git/clevr-iep/data-new-laptop-2/clevr/feats/val_features_0_3000.h5\n",
      "Loading question from  /home/arenbabikian/git/clevr-iep/data-new-laptop-2/clevr/questions/val_questions_0_3000.h5\n"
     ]
    },
    {
     "name": "stderr",
     "output_type": "stream",
     "text": [
      " 16%|█▌        | 4862/30000 [01:39<08:34, 48.81it/s]\n",
      "  0%|          | 0/3 [01:56<?, ?it/s]\n"
     ]
    },
    {
     "ename": "KeyboardInterrupt",
     "evalue": "",
     "output_type": "error",
     "traceback": [
      "\u001b[0;31m---------------------------------------------------------------------------\u001b[0m",
      "\u001b[0;31mKeyboardInterrupt\u001b[0m                         Traceback (most recent call last)",
      "File \u001b[0;32m~/git/clevr-iep/scripts/answer_qs_from_features.py:249\u001b[0m\n\u001b[1;32m    247\u001b[0m \u001b[39mif\u001b[39;00m \u001b[39m__name__\u001b[39m \u001b[39m==\u001b[39m \u001b[39m'\u001b[39m\u001b[39m__main__\u001b[39m\u001b[39m'\u001b[39m:\n\u001b[1;32m    248\u001b[0m   args \u001b[39m=\u001b[39m parser\u001b[39m.\u001b[39mparse_args()\n\u001b[0;32m--> 249\u001b[0m   main(args)\n",
      "File \u001b[0;32m~/git/clevr-iep/scripts/answer_qs_from_features.py:101\u001b[0m, in \u001b[0;36mmain\u001b[0;34m(args)\u001b[0m\n\u001b[1;32m     88\u001b[0m     model\u001b[39m.\u001b[39mrnn\u001b[39m.\u001b[39mexpand_vocab(new_vocab[\u001b[39m'\u001b[39m\u001b[39mquestion_token_to_idx\u001b[39m\u001b[39m'\u001b[39m])\n\u001b[1;32m     90\u001b[0m \u001b[39m#PRINT EMBEDDED VOCAB\u001b[39;00m\n\u001b[1;32m     91\u001b[0m \u001b[39m# import json\u001b[39;00m\n\u001b[1;32m     92\u001b[0m \u001b[39m# with open(f'/mnt/c/git/clevr-iep/{name}-vocab.json', 'w') as f:\u001b[39;00m\n\u001b[0;32m   (...)\u001b[0m\n\u001b[1;32m     99\u001b[0m \u001b[39m# print(load_vocab(vocab_path)['answer_token_to_idx'])\u001b[39;00m\n\u001b[1;32m    100\u001b[0m \u001b[39m# exit()\u001b[39;00m\n\u001b[0;32m--> 101\u001b[0m q_ids, scores, results \u001b[39m=\u001b[39m run_raw_images(args, model, vocab_path)\n\u001b[1;32m    103\u001b[0m \u001b[39m# Save the derived data\u001b[39;00m\n\u001b[1;32m    104\u001b[0m _split \u001b[39m=\u001b[39m os\u001b[39m.\u001b[39mpath\u001b[39m.\u001b[39msplitext(args\u001b[39m.\u001b[39mquestions_file)[\u001b[39m-\u001b[39m\u001b[39m2\u001b[39m]\u001b[39m.\u001b[39msplit(\u001b[39m'\u001b[39m\u001b[39m_\u001b[39m\u001b[39m'\u001b[39m)\n",
      "File \u001b[0;32m~/git/clevr-iep/scripts/answer_qs_from_features.py:219\u001b[0m, in \u001b[0;36mrun_raw_images\u001b[0;34m(args, model, vocab_path)\u001b[0m\n\u001b[1;32m    217\u001b[0m execution_engine\u001b[39m.\u001b[39mtype(dtype)\n\u001b[1;32m    218\u001b[0m predicted_programs \u001b[39m=\u001b[39m []\n\u001b[0;32m--> 219\u001b[0m predicted_programs \u001b[39m=\u001b[39m program_generator\u001b[39m.\u001b[39;49mreinforce_sample(\n\u001b[1;32m    220\u001b[0m                           question_var,\n\u001b[1;32m    221\u001b[0m                           temperature\u001b[39m=\u001b[39;49margs\u001b[39m.\u001b[39;49mtemperature,\n\u001b[1;32m    222\u001b[0m                           argmax\u001b[39m=\u001b[39;49m(args\u001b[39m.\u001b[39;49msample_argmax \u001b[39m==\u001b[39;49m \u001b[39m1\u001b[39;49m))\n\u001b[1;32m    223\u001b[0m \u001b[39m# print(feats_var.size())\u001b[39;00m\n\u001b[1;32m    224\u001b[0m \u001b[39m# print(feats_var.dtype)\u001b[39;00m\n\u001b[1;32m    225\u001b[0m \u001b[39m# print(predicted_programs)\u001b[39;00m\n\u001b[1;32m    226\u001b[0m \u001b[39m# print(predicted_programs.dtype)\u001b[39;00m\n\u001b[1;32m    227\u001b[0m scores \u001b[39m=\u001b[39m execution_engine(feats_var, predicted_programs)\n",
      "File \u001b[0;32m~/git/clevr-iep/iep/models/seq2seq.py:179\u001b[0m, in \u001b[0;36mSeq2Seq.reinforce_sample\u001b[0;34m(self, x, max_length, temperature, argmax)\u001b[0m\n\u001b[1;32m    177\u001b[0m \u001b[39mself\u001b[39m\u001b[39m.\u001b[39mmultinomial_outputs\u001b[39m.\u001b[39mappend(cur_output)\n\u001b[1;32m    178\u001b[0m \u001b[39mself\u001b[39m\u001b[39m.\u001b[39mmultinomial_probs\u001b[39m.\u001b[39mappend(probs)\n\u001b[0;32m--> 179\u001b[0m cur_output_data \u001b[39m=\u001b[39m cur_output\u001b[39m.\u001b[39;49mdata\u001b[39m.\u001b[39;49mcpu()\n\u001b[1;32m    180\u001b[0m not_done \u001b[39m=\u001b[39m logical_not(done)\n\u001b[1;32m    181\u001b[0m y[:, t][not_done] \u001b[39m=\u001b[39m cur_output_data[not_done]\n",
      "\u001b[0;31mKeyboardInterrupt\u001b[0m: "
     ]
    }
   ],
   "source": [
    "# 2 - Obtain answers to questions\n",
    "\n",
    "specifications=[\n",
    "    ('features', 'learned', 10, 3000),\n",
    "    ('random1', 'random1', 10, 3000),\n",
    "    ('randomwithreplacement1', 'randomwithreplacement1', 10, 3000),\n",
    "    ('iepvqa/val', 'resnet101', 1, 300),\n",
    "    ('features_ansce', 'learned_from_ans_9k_ce', 1, 300),\n",
    "    ('features_ansmse', 'learned_from_ans_9k_mse', 1, 300)\n",
    "]\n",
    "\n",
    "# TEMP\n",
    "specifications=[('iepvqa/val', 'resnet101', 1, 3000)]\n",
    "\n",
    "for feats, out_dir, interval, num_im in specifications:\n",
    "    features_path = f'/home/arenbabikian/git/Clevr-Relational/_data/{feats}_features_0_{num_im}.h5'\n",
    "    features_path = f'/home/arenbabikian/git/clevr-iep/data-new-laptop-2/clevr/feats/val_features_0_3000.h5' # TEMP\n",
    "    output_path = f'/home/arenbabikian/git/clevr-iep/data-new-laptop-3/clevr/answers/{out_dir}'\n",
    "\n",
    "    ### LEARNED FROM ANS MSE\n",
    "    %run answer_qs_from_features.py \\\n",
    "    --models_dir /home/arenbabikian/git/clevr-iep/models/CLEVR \\\n",
    "    --use_gpu 1 \\\n",
    "    --questions_interval {interval} \\\n",
    "    --num_images {num_im} \\\n",
    "    --questions_file /home/arenbabikian/git/clevr-iep/data-new-laptop-2/clevr/questions/val_questions_0_3000.h5 \\\n",
    "    --image_features {features_path} \\\n",
    "    --output_dir {output_path}"
   ]
  },
  {
   "cell_type": "code",
   "execution_count": 3,
   "metadata": {},
   "outputs": [
    {
     "name": "stdout",
     "output_type": "stream",
     "text": [
      "\n"
     ]
    },
    {
     "name": "stderr",
     "output_type": "stream",
     "text": [
      "  0%|          | 0/3 [00:00<?, ?it/s]"
     ]
    },
    {
     "name": "stdout",
     "output_type": "stream",
     "text": [
      "Loading program generator from  program_generator_9k.pt\n",
      "Loading execution engine from  execution_engine_9k.pt\n",
      "Loading image features from  /home/arenbabikian/git/clevr-iep/data-new-laptop-2/clevr/stem-feats/val_features_0_3000.h5\n",
      "Loading question from  /home/arenbabikian/git/clevr-iep/data-new-laptop-2/clevr/questions/val_questions_0_3000.h5\n"
     ]
    },
    {
     "name": "stderr",
     "output_type": "stream",
     "text": [
      "100%|██████████| 30000/30000 [10:56<00:00, 45.73it/s]\n",
      " 33%|███▎      | 1/3 [10:56<21:53, 656.90s/it]"
     ]
    },
    {
     "name": "stdout",
     "output_type": "stream",
     "text": [
      "Loading program generator from  program_generator_18k.pt\n",
      "Loading execution engine from  execution_engine_18k.pt\n",
      "Loading image features from  /home/arenbabikian/git/clevr-iep/data-new-laptop-2/clevr/stem-feats/val_features_0_3000.h5\n",
      "Loading question from  /home/arenbabikian/git/clevr-iep/data-new-laptop-2/clevr/questions/val_questions_0_3000.h5\n"
     ]
    },
    {
     "name": "stderr",
     "output_type": "stream",
     "text": [
      " 51%|█████     | 15182/30000 [05:37<05:29, 44.97it/s]\n",
      " 33%|███▎      | 1/3 [16:35<33:10, 995.17s/it]\n"
     ]
    },
    {
     "ename": "KeyboardInterrupt",
     "evalue": "",
     "output_type": "error",
     "traceback": [
      "\u001b[0;31m---------------------------------------------------------------------------\u001b[0m",
      "\u001b[0;31mKeyboardInterrupt\u001b[0m                         Traceback (most recent call last)",
      "File \u001b[0;32m~/git/clevr-iep/scripts/answer_qs_from_features.py:249\u001b[0m\n\u001b[1;32m    247\u001b[0m \u001b[39mif\u001b[39;00m \u001b[39m__name__\u001b[39m \u001b[39m==\u001b[39m \u001b[39m'\u001b[39m\u001b[39m__main__\u001b[39m\u001b[39m'\u001b[39m:\n\u001b[1;32m    248\u001b[0m   args \u001b[39m=\u001b[39m parser\u001b[39m.\u001b[39mparse_args()\n\u001b[0;32m--> 249\u001b[0m   main(args)\n",
      "File \u001b[0;32m~/git/clevr-iep/scripts/answer_qs_from_features.py:101\u001b[0m, in \u001b[0;36mmain\u001b[0;34m(args)\u001b[0m\n\u001b[1;32m     88\u001b[0m     model\u001b[39m.\u001b[39mrnn\u001b[39m.\u001b[39mexpand_vocab(new_vocab[\u001b[39m'\u001b[39m\u001b[39mquestion_token_to_idx\u001b[39m\u001b[39m'\u001b[39m])\n\u001b[1;32m     90\u001b[0m \u001b[39m#PRINT EMBEDDED VOCAB\u001b[39;00m\n\u001b[1;32m     91\u001b[0m \u001b[39m# import json\u001b[39;00m\n\u001b[1;32m     92\u001b[0m \u001b[39m# with open(f'/mnt/c/git/clevr-iep/{name}-vocab.json', 'w') as f:\u001b[39;00m\n\u001b[0;32m   (...)\u001b[0m\n\u001b[1;32m     99\u001b[0m \u001b[39m# print(load_vocab(vocab_path)['answer_token_to_idx'])\u001b[39;00m\n\u001b[1;32m    100\u001b[0m \u001b[39m# exit()\u001b[39;00m\n\u001b[0;32m--> 101\u001b[0m q_ids, scores, results \u001b[39m=\u001b[39m run_raw_images(args, model, vocab_path)\n\u001b[1;32m    103\u001b[0m \u001b[39m# Save the derived data\u001b[39;00m\n\u001b[1;32m    104\u001b[0m _split \u001b[39m=\u001b[39m os\u001b[39m.\u001b[39mpath\u001b[39m.\u001b[39msplitext(args\u001b[39m.\u001b[39mquestions_file)[\u001b[39m-\u001b[39m\u001b[39m2\u001b[39m]\u001b[39m.\u001b[39msplit(\u001b[39m'\u001b[39m\u001b[39m_\u001b[39m\u001b[39m'\u001b[39m)\n",
      "File \u001b[0;32m~/git/clevr-iep/scripts/answer_qs_from_features.py:227\u001b[0m, in \u001b[0;36mrun_raw_images\u001b[0;34m(args, model, vocab_path)\u001b[0m\n\u001b[1;32m    219\u001b[0m   predicted_programs \u001b[39m=\u001b[39m program_generator\u001b[39m.\u001b[39mreinforce_sample(\n\u001b[1;32m    220\u001b[0m                             question_var,\n\u001b[1;32m    221\u001b[0m                             temperature\u001b[39m=\u001b[39margs\u001b[39m.\u001b[39mtemperature,\n\u001b[1;32m    222\u001b[0m                             argmax\u001b[39m=\u001b[39m(args\u001b[39m.\u001b[39msample_argmax \u001b[39m==\u001b[39m \u001b[39m1\u001b[39m))\n\u001b[1;32m    223\u001b[0m   \u001b[39m# print(feats_var.size())\u001b[39;00m\n\u001b[1;32m    224\u001b[0m   \u001b[39m# print(feats_var.dtype)\u001b[39;00m\n\u001b[1;32m    225\u001b[0m   \u001b[39m# print(predicted_programs)\u001b[39;00m\n\u001b[1;32m    226\u001b[0m   \u001b[39m# print(predicted_programs.dtype)\u001b[39;00m\n\u001b[0;32m--> 227\u001b[0m   scores \u001b[39m=\u001b[39m execution_engine(feats_var, predicted_programs)\n\u001b[1;32m    228\u001b[0m \u001b[39melse\u001b[39;00m:\n\u001b[1;32m    229\u001b[0m   model\u001b[39m.\u001b[39mtype(dtype)\n",
      "File \u001b[0;32m~/git/clevr-iep/.env/lib/python3.10/site-packages/torch/nn/modules/module.py:1194\u001b[0m, in \u001b[0;36mModule._call_impl\u001b[0;34m(self, *input, **kwargs)\u001b[0m\n\u001b[1;32m   1190\u001b[0m \u001b[39m# If we don't have any hooks, we want to skip the rest of the logic in\u001b[39;00m\n\u001b[1;32m   1191\u001b[0m \u001b[39m# this function, and just call forward.\u001b[39;00m\n\u001b[1;32m   1192\u001b[0m \u001b[39mif\u001b[39;00m \u001b[39mnot\u001b[39;00m (\u001b[39mself\u001b[39m\u001b[39m.\u001b[39m_backward_hooks \u001b[39mor\u001b[39;00m \u001b[39mself\u001b[39m\u001b[39m.\u001b[39m_forward_hooks \u001b[39mor\u001b[39;00m \u001b[39mself\u001b[39m\u001b[39m.\u001b[39m_forward_pre_hooks \u001b[39mor\u001b[39;00m _global_backward_hooks\n\u001b[1;32m   1193\u001b[0m         \u001b[39mor\u001b[39;00m _global_forward_hooks \u001b[39mor\u001b[39;00m _global_forward_pre_hooks):\n\u001b[0;32m-> 1194\u001b[0m     \u001b[39mreturn\u001b[39;00m forward_call(\u001b[39m*\u001b[39;49m\u001b[39minput\u001b[39;49m, \u001b[39m*\u001b[39;49m\u001b[39m*\u001b[39;49mkwargs)\n\u001b[1;32m   1195\u001b[0m \u001b[39m# Do not call functions when jit is used\u001b[39;00m\n\u001b[1;32m   1196\u001b[0m full_backward_hooks, non_full_backward_hooks \u001b[39m=\u001b[39m [], []\n",
      "File \u001b[0;32m~/git/clevr-iep/iep/models/module_net.py:241\u001b[0m, in \u001b[0;36mModuleNet.forward\u001b[0;34m(self, x, program)\u001b[0m\n\u001b[1;32m    239\u001b[0m   final_module_outputs \u001b[39m=\u001b[39m \u001b[39mself\u001b[39m\u001b[39m.\u001b[39m_forward_modules_json(feats, program)\n\u001b[1;32m    240\u001b[0m \u001b[39melif\u001b[39;00m (\u001b[39mtype\u001b[39m(program) \u001b[39mis\u001b[39;00m Variable \u001b[39mor\u001b[39;00m \u001b[39mtype\u001b[39m(program) \u001b[39mis\u001b[39;00m torch\u001b[39m.\u001b[39mTensor) \u001b[39mand\u001b[39;00m program\u001b[39m.\u001b[39mdim() \u001b[39m==\u001b[39m \u001b[39m2\u001b[39m:\n\u001b[0;32m--> 241\u001b[0m   final_module_outputs \u001b[39m=\u001b[39m \u001b[39mself\u001b[39;49m\u001b[39m.\u001b[39;49m_forward_modules_ints(feats, program)\n\u001b[1;32m    242\u001b[0m \u001b[39melse\u001b[39;00m:\n\u001b[1;32m    243\u001b[0m   \u001b[39mraise\u001b[39;00m \u001b[39mValueError\u001b[39;00m(\u001b[39m'\u001b[39m\u001b[39mUnrecognized program format\u001b[39m\u001b[39m'\u001b[39m)\n",
      "File \u001b[0;32m~/git/clevr-iep/iep/models/module_net.py:221\u001b[0m, in \u001b[0;36mModuleNet._forward_modules_ints\u001b[0;34m(self, feats, program)\u001b[0m\n\u001b[1;32m    219\u001b[0m \u001b[39mself\u001b[39m\u001b[39m.\u001b[39mused_fns \u001b[39m=\u001b[39m torch\u001b[39m.\u001b[39mTensor(program\u001b[39m.\u001b[39msize())\u001b[39m.\u001b[39mfill_(\u001b[39m0\u001b[39m)\n\u001b[1;32m    220\u001b[0m \u001b[39mfor\u001b[39;00m i \u001b[39min\u001b[39;00m \u001b[39mrange\u001b[39m(N):\n\u001b[0;32m--> 221\u001b[0m   cur_output, _ \u001b[39m=\u001b[39m \u001b[39mself\u001b[39;49m\u001b[39m.\u001b[39;49m_forward_modules_ints_helper(feats, program, i, \u001b[39m0\u001b[39;49m)\n\u001b[1;32m    222\u001b[0m   final_module_outputs\u001b[39m.\u001b[39mappend(cur_output)\n\u001b[1;32m    223\u001b[0m \u001b[39mself\u001b[39m\u001b[39m.\u001b[39mused_fns \u001b[39m=\u001b[39m \u001b[39mself\u001b[39m\u001b[39m.\u001b[39mused_fns\u001b[39m.\u001b[39mtype_as(program\u001b[39m.\u001b[39mdata)\u001b[39m.\u001b[39mfloat()\n",
      "File \u001b[0;32m~/git/clevr-iep/iep/models/module_net.py:206\u001b[0m, in \u001b[0;36mModuleNet._forward_modules_ints_helper\u001b[0;34m(self, feats, program, i, j)\u001b[0m\n\u001b[1;32m    204\u001b[0m   module_inputs \u001b[39m=\u001b[39m []\n\u001b[1;32m    205\u001b[0m   \u001b[39mwhile\u001b[39;00m \u001b[39mlen\u001b[39m(module_inputs) \u001b[39m<\u001b[39m num_inputs:\n\u001b[0;32m--> 206\u001b[0m     cur_input, j \u001b[39m=\u001b[39m \u001b[39mself\u001b[39;49m\u001b[39m.\u001b[39;49m_forward_modules_ints_helper(feats, program, i, j)\n\u001b[1;32m    207\u001b[0m     module_inputs\u001b[39m.\u001b[39mappend(cur_input)\n\u001b[1;32m    208\u001b[0m module_output \u001b[39m=\u001b[39m module(\u001b[39m*\u001b[39mmodule_inputs)\n",
      "File \u001b[0;32m~/git/clevr-iep/iep/models/module_net.py:206\u001b[0m, in \u001b[0;36mModuleNet._forward_modules_ints_helper\u001b[0;34m(self, feats, program, i, j)\u001b[0m\n\u001b[1;32m    204\u001b[0m   module_inputs \u001b[39m=\u001b[39m []\n\u001b[1;32m    205\u001b[0m   \u001b[39mwhile\u001b[39;00m \u001b[39mlen\u001b[39m(module_inputs) \u001b[39m<\u001b[39m num_inputs:\n\u001b[0;32m--> 206\u001b[0m     cur_input, j \u001b[39m=\u001b[39m \u001b[39mself\u001b[39;49m\u001b[39m.\u001b[39;49m_forward_modules_ints_helper(feats, program, i, j)\n\u001b[1;32m    207\u001b[0m     module_inputs\u001b[39m.\u001b[39mappend(cur_input)\n\u001b[1;32m    208\u001b[0m module_output \u001b[39m=\u001b[39m module(\u001b[39m*\u001b[39mmodule_inputs)\n",
      "    \u001b[0;31m[... skipping similar frames: ModuleNet._forward_modules_ints_helper at line 206 (8 times)]\u001b[0m\n",
      "File \u001b[0;32m~/git/clevr-iep/iep/models/module_net.py:206\u001b[0m, in \u001b[0;36mModuleNet._forward_modules_ints_helper\u001b[0;34m(self, feats, program, i, j)\u001b[0m\n\u001b[1;32m    204\u001b[0m   module_inputs \u001b[39m=\u001b[39m []\n\u001b[1;32m    205\u001b[0m   \u001b[39mwhile\u001b[39;00m \u001b[39mlen\u001b[39m(module_inputs) \u001b[39m<\u001b[39m num_inputs:\n\u001b[0;32m--> 206\u001b[0m     cur_input, j \u001b[39m=\u001b[39m \u001b[39mself\u001b[39;49m\u001b[39m.\u001b[39;49m_forward_modules_ints_helper(feats, program, i, j)\n\u001b[1;32m    207\u001b[0m     module_inputs\u001b[39m.\u001b[39mappend(cur_input)\n\u001b[1;32m    208\u001b[0m module_output \u001b[39m=\u001b[39m module(\u001b[39m*\u001b[39mmodule_inputs)\n",
      "File \u001b[0;32m~/git/clevr-iep/iep/models/module_net.py:208\u001b[0m, in \u001b[0;36mModuleNet._forward_modules_ints_helper\u001b[0;34m(self, feats, program, i, j)\u001b[0m\n\u001b[1;32m    206\u001b[0m     cur_input, j \u001b[39m=\u001b[39m \u001b[39mself\u001b[39m\u001b[39m.\u001b[39m_forward_modules_ints_helper(feats, program, i, j)\n\u001b[1;32m    207\u001b[0m     module_inputs\u001b[39m.\u001b[39mappend(cur_input)\n\u001b[0;32m--> 208\u001b[0m module_output \u001b[39m=\u001b[39m module(\u001b[39m*\u001b[39;49mmodule_inputs)\n\u001b[1;32m    209\u001b[0m \u001b[39mreturn\u001b[39;00m module_output, j\n",
      "File \u001b[0;32m~/git/clevr-iep/.env/lib/python3.10/site-packages/torch/nn/modules/module.py:1194\u001b[0m, in \u001b[0;36mModule._call_impl\u001b[0;34m(self, *input, **kwargs)\u001b[0m\n\u001b[1;32m   1190\u001b[0m \u001b[39m# If we don't have any hooks, we want to skip the rest of the logic in\u001b[39;00m\n\u001b[1;32m   1191\u001b[0m \u001b[39m# this function, and just call forward.\u001b[39;00m\n\u001b[1;32m   1192\u001b[0m \u001b[39mif\u001b[39;00m \u001b[39mnot\u001b[39;00m (\u001b[39mself\u001b[39m\u001b[39m.\u001b[39m_backward_hooks \u001b[39mor\u001b[39;00m \u001b[39mself\u001b[39m\u001b[39m.\u001b[39m_forward_hooks \u001b[39mor\u001b[39;00m \u001b[39mself\u001b[39m\u001b[39m.\u001b[39m_forward_pre_hooks \u001b[39mor\u001b[39;00m _global_backward_hooks\n\u001b[1;32m   1193\u001b[0m         \u001b[39mor\u001b[39;00m _global_forward_hooks \u001b[39mor\u001b[39;00m _global_forward_pre_hooks):\n\u001b[0;32m-> 1194\u001b[0m     \u001b[39mreturn\u001b[39;00m forward_call(\u001b[39m*\u001b[39;49m\u001b[39minput\u001b[39;49m, \u001b[39m*\u001b[39;49m\u001b[39m*\u001b[39;49mkwargs)\n\u001b[1;32m   1195\u001b[0m \u001b[39m# Do not call functions when jit is used\u001b[39;00m\n\u001b[1;32m   1196\u001b[0m full_backward_hooks, non_full_backward_hooks \u001b[39m=\u001b[39m [], []\n",
      "File \u001b[0;32m~/git/clevr-iep/iep/models/layers.py:36\u001b[0m, in \u001b[0;36mResidualBlock.forward\u001b[0;34m(self, x)\u001b[0m\n\u001b[1;32m     34\u001b[0m   out \u001b[39m=\u001b[39m \u001b[39mself\u001b[39m\u001b[39m.\u001b[39mbn2(\u001b[39mself\u001b[39m\u001b[39m.\u001b[39mconv2(out))\n\u001b[1;32m     35\u001b[0m \u001b[39melse\u001b[39;00m:\n\u001b[0;32m---> 36\u001b[0m   out \u001b[39m=\u001b[39m \u001b[39mself\u001b[39m\u001b[39m.\u001b[39mconv2(F\u001b[39m.\u001b[39mrelu(\u001b[39mself\u001b[39;49m\u001b[39m.\u001b[39;49mconv1(x)))\n\u001b[1;32m     37\u001b[0m res \u001b[39m=\u001b[39m x \u001b[39mif\u001b[39;00m \u001b[39mself\u001b[39m\u001b[39m.\u001b[39mproj \u001b[39mis\u001b[39;00m \u001b[39mNone\u001b[39;00m \u001b[39melse\u001b[39;00m \u001b[39mself\u001b[39m\u001b[39m.\u001b[39mproj(x)\n\u001b[1;32m     38\u001b[0m \u001b[39mif\u001b[39;00m \u001b[39mself\u001b[39m\u001b[39m.\u001b[39mwith_residual:\n",
      "File \u001b[0;32m~/git/clevr-iep/.env/lib/python3.10/site-packages/torch/nn/modules/module.py:1194\u001b[0m, in \u001b[0;36mModule._call_impl\u001b[0;34m(self, *input, **kwargs)\u001b[0m\n\u001b[1;32m   1190\u001b[0m \u001b[39m# If we don't have any hooks, we want to skip the rest of the logic in\u001b[39;00m\n\u001b[1;32m   1191\u001b[0m \u001b[39m# this function, and just call forward.\u001b[39;00m\n\u001b[1;32m   1192\u001b[0m \u001b[39mif\u001b[39;00m \u001b[39mnot\u001b[39;00m (\u001b[39mself\u001b[39m\u001b[39m.\u001b[39m_backward_hooks \u001b[39mor\u001b[39;00m \u001b[39mself\u001b[39m\u001b[39m.\u001b[39m_forward_hooks \u001b[39mor\u001b[39;00m \u001b[39mself\u001b[39m\u001b[39m.\u001b[39m_forward_pre_hooks \u001b[39mor\u001b[39;00m _global_backward_hooks\n\u001b[1;32m   1193\u001b[0m         \u001b[39mor\u001b[39;00m _global_forward_hooks \u001b[39mor\u001b[39;00m _global_forward_pre_hooks):\n\u001b[0;32m-> 1194\u001b[0m     \u001b[39mreturn\u001b[39;00m forward_call(\u001b[39m*\u001b[39;49m\u001b[39minput\u001b[39;49m, \u001b[39m*\u001b[39;49m\u001b[39m*\u001b[39;49mkwargs)\n\u001b[1;32m   1195\u001b[0m \u001b[39m# Do not call functions when jit is used\u001b[39;00m\n\u001b[1;32m   1196\u001b[0m full_backward_hooks, non_full_backward_hooks \u001b[39m=\u001b[39m [], []\n",
      "File \u001b[0;32m~/git/clevr-iep/.env/lib/python3.10/site-packages/torch/nn/modules/conv.py:463\u001b[0m, in \u001b[0;36mConv2d.forward\u001b[0;34m(self, input)\u001b[0m\n\u001b[1;32m    462\u001b[0m \u001b[39mdef\u001b[39;00m \u001b[39mforward\u001b[39m(\u001b[39mself\u001b[39m, \u001b[39minput\u001b[39m: Tensor) \u001b[39m-\u001b[39m\u001b[39m>\u001b[39m Tensor:\n\u001b[0;32m--> 463\u001b[0m     \u001b[39mreturn\u001b[39;00m \u001b[39mself\u001b[39;49m\u001b[39m.\u001b[39;49m_conv_forward(\u001b[39minput\u001b[39;49m, \u001b[39mself\u001b[39;49m\u001b[39m.\u001b[39;49mweight, \u001b[39mself\u001b[39;49m\u001b[39m.\u001b[39;49mbias)\n",
      "File \u001b[0;32m~/git/clevr-iep/.env/lib/python3.10/site-packages/torch/nn/modules/conv.py:459\u001b[0m, in \u001b[0;36mConv2d._conv_forward\u001b[0;34m(self, input, weight, bias)\u001b[0m\n\u001b[1;32m    455\u001b[0m \u001b[39mif\u001b[39;00m \u001b[39mself\u001b[39m\u001b[39m.\u001b[39mpadding_mode \u001b[39m!=\u001b[39m \u001b[39m'\u001b[39m\u001b[39mzeros\u001b[39m\u001b[39m'\u001b[39m:\n\u001b[1;32m    456\u001b[0m     \u001b[39mreturn\u001b[39;00m F\u001b[39m.\u001b[39mconv2d(F\u001b[39m.\u001b[39mpad(\u001b[39minput\u001b[39m, \u001b[39mself\u001b[39m\u001b[39m.\u001b[39m_reversed_padding_repeated_twice, mode\u001b[39m=\u001b[39m\u001b[39mself\u001b[39m\u001b[39m.\u001b[39mpadding_mode),\n\u001b[1;32m    457\u001b[0m                     weight, bias, \u001b[39mself\u001b[39m\u001b[39m.\u001b[39mstride,\n\u001b[1;32m    458\u001b[0m                     _pair(\u001b[39m0\u001b[39m), \u001b[39mself\u001b[39m\u001b[39m.\u001b[39mdilation, \u001b[39mself\u001b[39m\u001b[39m.\u001b[39mgroups)\n\u001b[0;32m--> 459\u001b[0m \u001b[39mreturn\u001b[39;00m F\u001b[39m.\u001b[39;49mconv2d(\u001b[39minput\u001b[39;49m, weight, bias, \u001b[39mself\u001b[39;49m\u001b[39m.\u001b[39;49mstride,\n\u001b[1;32m    460\u001b[0m                 \u001b[39mself\u001b[39;49m\u001b[39m.\u001b[39;49mpadding, \u001b[39mself\u001b[39;49m\u001b[39m.\u001b[39;49mdilation, \u001b[39mself\u001b[39;49m\u001b[39m.\u001b[39;49mgroups)\n",
      "\u001b[0;31mKeyboardInterrupt\u001b[0m: "
     ]
    }
   ],
   "source": [
    "# 2.5 - Obtain answers to questions FROM STEM FEATURES\n",
    "\n",
    "specifications=[\n",
    "    ('features', 'learned', 10, 3000),\n",
    "    ('random1', 'random1', 10, 3000),\n",
    "    ('randomwithreplacement1', 'randomwithreplacement1', 10, 3000),\n",
    "    ('iepvqa/val', 'resnet101', 1, 300),\n",
    "    ('features_ansce', 'learned_from_ans_9k_ce', 1, 300),\n",
    "    ('features_ansmse', 'learned_from_ans_9k_mse', 1, 300)\n",
    "]\n",
    "\n",
    "# TEMP\n",
    "specifications=[('iepvqa/val', 'resnet101', 1, 3000)]\n",
    "for feats, out_dir, interval, num_im in specifications:\n",
    "    features_path = f'/home/arenbabikian/git/Clevr-Relational/_data/{feats}_features_0_{num_im}.h5'\n",
    "    features_path = f'/home/arenbabikian/git/clevr-iep/data-new-laptop-2/clevr/stem-feats/val_features_0_3000.h5' # TEMP\n",
    "    output_path = f'/home/arenbabikian/git/clevr-iep/data-new-laptop-2/clevr/stem-answers/{out_dir}'\n",
    "\n",
    "    ### LEARNED FROM ANS MSE\n",
    "    %run answer_qs_from_features.py \\\n",
    "    --models_dir /home/arenbabikian/git/clevr-iep/models/CLEVR \\\n",
    "    --use_gpu 1 \\\n",
    "    --questions_interval {interval} \\\n",
    "    --num_images {num_im} \\\n",
    "    --questions_file /home/arenbabikian/git/clevr-iep/data-new-laptop-2/clevr/questions/val_questions_0_3000.h5 \\\n",
    "    --image_features {features_path} \\\n",
    "    --output_dir {output_path}"
   ]
  }
 ],
 "metadata": {
  "kernelspec": {
   "display_name": ".env",
   "language": "python",
   "name": "python3"
  },
  "language_info": {
   "codemirror_mode": {
    "name": "ipython",
    "version": 3
   },
   "file_extension": ".py",
   "mimetype": "text/x-python",
   "name": "python",
   "nbconvert_exporter": "python",
   "pygments_lexer": "ipython3",
   "version": "3.10.6"
  },
  "orig_nbformat": 4,
  "vscode": {
   "interpreter": {
    "hash": "73c4ee14c08b56b098ffd18d8fd2857450675cf59e1d288b09b32979cfbb07a5"
   }
  }
 },
 "nbformat": 4,
 "nbformat_minor": 2
}
